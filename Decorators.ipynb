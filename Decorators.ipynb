{
 "cells": [
  {
   "cell_type": "markdown",
   "metadata": {},
   "source": [
    "- Decorators are necessary for flexible handling of functions\n",
    "- This is like an ON/OFF switch for functions\n",
    "- @ operator is used to initiate/specify a decorator\n",
    "- We should also know how to use functions inside another function(s) and function assignment concepts"
   ]
  },
  {
   "cell_type": "code",
   "execution_count": 10,
   "metadata": {
    "collapsed": true
   },
   "outputs": [],
   "source": [
    "def f1():\n",
    "    return \"this is function 1\""
   ]
  },
  {
   "cell_type": "code",
   "execution_count": 13,
   "metadata": {},
   "outputs": [
    {
     "data": {
      "text/plain": [
       "<function __main__.f1>"
      ]
     },
     "execution_count": 13,
     "metadata": {},
     "output_type": "execute_result"
    }
   ],
   "source": [
    "# this will return the type of f1 object. In this case its a function\n",
    "f1"
   ]
  },
  {
   "cell_type": "code",
   "execution_count": 16,
   "metadata": {},
   "outputs": [
    {
     "data": {
      "text/plain": [
       "'this is function 1'"
      ]
     },
     "execution_count": 16,
     "metadata": {},
     "output_type": "execute_result"
    }
   ],
   "source": [
    "# this will return a value or perform an action inside the function\n",
    "f1()"
   ]
  },
  {
   "cell_type": "markdown",
   "metadata": {},
   "source": [
    "Function Assignment\n",
    "- assigning a function to another function\n",
    "- in this case both the function will be pointed at same address\n",
    "- if we delete anyone, the another one will point to same address"
   ]
  },
  {
   "cell_type": "code",
   "execution_count": 18,
   "metadata": {
    "collapsed": true
   },
   "outputs": [],
   "source": [
    "a1 = f1"
   ]
  },
  {
   "cell_type": "code",
   "execution_count": 21,
   "metadata": {},
   "outputs": [
    {
     "data": {
      "text/plain": [
       "'this is function 1'"
      ]
     },
     "execution_count": 21,
     "metadata": {},
     "output_type": "execute_result"
    }
   ],
   "source": [
    "a1()"
   ]
  },
  {
   "cell_type": "code",
   "execution_count": 25,
   "metadata": {},
   "outputs": [
    {
     "ename": "NameError",
     "evalue": "name 'f1' is not defined",
     "output_type": "error",
     "traceback": [
      "\u001b[1;31m---------------------------------------------------------------------------\u001b[0m",
      "\u001b[1;31mNameError\u001b[0m                                 Traceback (most recent call last)",
      "\u001b[1;32m<ipython-input-25-9b992663ff64>\u001b[0m in \u001b[0;36m<module>\u001b[1;34m()\u001b[0m\n\u001b[0;32m      1\u001b[0m \u001b[1;31m# delete function f1\u001b[0m\u001b[1;33m\u001b[0m\u001b[1;33m\u001b[0m\u001b[0m\n\u001b[1;32m----> 2\u001b[1;33m \u001b[1;32mdel\u001b[0m \u001b[0mf1\u001b[0m\u001b[1;33m\u001b[0m\u001b[0m\n\u001b[0m\u001b[0;32m      3\u001b[0m \u001b[0mf1\u001b[0m\u001b[1;33m\u001b[0m\u001b[0m\n",
      "\u001b[1;31mNameError\u001b[0m: name 'f1' is not defined"
     ]
    }
   ],
   "source": [
    "# delete function f1\n",
    "del f1\n",
    "f1"
   ]
  },
  {
   "cell_type": "code",
   "execution_count": 27,
   "metadata": {},
   "outputs": [
    {
     "data": {
      "text/plain": [
       "'this is function 1'"
      ]
     },
     "execution_count": 27,
     "metadata": {},
     "output_type": "execute_result"
    }
   ],
   "source": [
    "# now access a1 function, this will still fetch the value because its still pointing at the old address which f1 was pointint at\n",
    "a1()"
   ]
  },
  {
   "cell_type": "markdown",
   "metadata": {},
   "source": [
    "Function inside a function"
   ]
  },
  {
   "cell_type": "code",
   "execution_count": 51,
   "metadata": {},
   "outputs": [],
   "source": [
    "# define a parent function\n",
    "def pf():\n",
    "    print(\"this is a parent funcion\")\n",
    "    \n",
    "    # define the first child function\n",
    "    def cf1():\n",
    "        return \"\\t this is the first child function, which is inside the parent function\"\n",
    "        \n",
    "    # define the second child function\n",
    "    def cf2():\n",
    "        return \"\\t this the second child function, which is inside the parent function\"\n",
    "    \n",
    "    # let us call the first child function\n",
    "    print(cf1())\n",
    "    print(cf2())\n",
    "    print(\"this is the end of parent function\")"
   ]
  },
  {
   "cell_type": "code",
   "execution_count": 53,
   "metadata": {},
   "outputs": [
    {
     "name": "stdout",
     "output_type": "stream",
     "text": [
      "this is a parent funcion\n",
      "\t this is the first child function, which is inside the parent function\n",
      "\t this the second child function, which is inside the parent function\n",
      "this is the end of parent function\n"
     ]
    }
   ],
   "source": [
    "pf()"
   ]
  },
  {
   "cell_type": "markdown",
   "metadata": {},
   "source": [
    "- note that the functions cf1 and cf2 are local to pf function and their scopes are limited to pf\n",
    "- if you try to access out of pf, we will get an error"
   ]
  },
  {
   "cell_type": "code",
   "execution_count": 58,
   "metadata": {},
   "outputs": [],
   "source": [
    "# define a parent function\n",
    "def pf(n):\n",
    "    print(\"this is a parent funcion\")\n",
    "    \n",
    "    # define the first child function\n",
    "    def cf1():\n",
    "        return \"\\t this is the first child function, which is inside the parent function\"\n",
    "        \n",
    "    # define the second child function\n",
    "    def cf2():\n",
    "        return \"\\t this the second child function, which is inside the parent function\"\n",
    "    \n",
    "    # now the parent function will return a function\n",
    "    if n == 1:\n",
    "        return cf1\n",
    "    elif n == 2:\n",
    "        return cf2\n",
    "    else:\n",
    "        return (\"you have entered a wrong value\")"
   ]
  },
  {
   "cell_type": "code",
   "execution_count": 62,
   "metadata": {},
   "outputs": [
    {
     "name": "stdout",
     "output_type": "stream",
     "text": [
      "Enter value 1 or 2: 1\n",
      "this is a parent funcion\n"
     ]
    },
    {
     "data": {
      "text/plain": [
       "<function __main__.pf.<locals>.cf1>"
      ]
     },
     "execution_count": 62,
     "metadata": {},
     "output_type": "execute_result"
    }
   ],
   "source": [
    "pf(n = int(input(\"Enter value 1 or 2: \")))"
   ]
  },
  {
   "cell_type": "code",
   "execution_count": 64,
   "metadata": {},
   "outputs": [
    {
     "name": "stdout",
     "output_type": "stream",
     "text": [
      "Enter value 1 or 2: 2\n",
      "this is a parent funcion\n"
     ]
    },
    {
     "data": {
      "text/plain": [
       "<function __main__.pf.<locals>.cf2>"
      ]
     },
     "execution_count": 64,
     "metadata": {},
     "output_type": "execute_result"
    }
   ],
   "source": [
    "pf(n = int(input(\"Enter value 1 or 2: \")))"
   ]
  },
  {
   "cell_type": "markdown",
   "metadata": {},
   "source": [
    "- in the above two case notice that the pf function pointing at cf1 and cf2 functions depending upon the value we input at run time.\n",
    "- now assign this returned function to another function"
   ]
  },
  {
   "cell_type": "code",
   "execution_count": 68,
   "metadata": {},
   "outputs": [
    {
     "name": "stdout",
     "output_type": "stream",
     "text": [
      "Enter value 1 or 2: 2\n",
      "this is a parent funcion\n"
     ]
    }
   ],
   "source": [
    "new_fun = pf(n = int(input(\"Enter value 1 or 2: \")))"
   ]
  },
  {
   "cell_type": "code",
   "execution_count": 70,
   "metadata": {},
   "outputs": [
    {
     "data": {
      "text/plain": [
       "'\\t this the second child function, which is inside the parent function'"
      ]
     },
     "execution_count": 70,
     "metadata": {},
     "output_type": "execute_result"
    }
   ],
   "source": [
    "# call this new_fun function and it will return the value under cf1\n",
    "new_fun()"
   ]
  },
  {
   "cell_type": "markdown",
   "metadata": {},
   "source": [
    "- now let us pass a function as an argument for another function"
   ]
  },
  {
   "cell_type": "code",
   "execution_count": 80,
   "metadata": {},
   "outputs": [],
   "source": [
    "def f1():\n",
    "    return(\"\\t this code is from f1 function\")"
   ]
  },
  {
   "cell_type": "code",
   "execution_count": 83,
   "metadata": {
    "collapsed": true
   },
   "outputs": [],
   "source": [
    "# let us pass f1 function in f2 function\n",
    "def f2(f1):\n",
    "    print('this code is from f2 function')\n",
    "    print(f1())"
   ]
  },
  {
   "cell_type": "code",
   "execution_count": 85,
   "metadata": {},
   "outputs": [
    {
     "name": "stdout",
     "output_type": "stream",
     "text": [
      "this code is from f2 function\n",
      "\t this code is from f1 function\n"
     ]
    }
   ],
   "source": [
    "f2(f1)"
   ]
  },
  {
   "cell_type": "markdown",
   "metadata": {},
   "source": [
    "- now let's create a decorator"
   ]
  },
  {
   "cell_type": "code",
   "execution_count": 87,
   "metadata": {
    "collapsed": true
   },
   "outputs": [],
   "source": [
    "def new_decorator(original_func):\n",
    "    \n",
    "    def wrap_func():\n",
    "        \n",
    "        print(\"code before original function\")\n",
    "        \n",
    "        original_func()\n",
    "        \n",
    "        print(\"code after original function\")\n",
    "    \n",
    "    return wrap_func"
   ]
  },
  {
   "cell_type": "code",
   "execution_count": 90,
   "metadata": {
    "collapsed": true
   },
   "outputs": [],
   "source": [
    "def func_needs_decorator():\n",
    "    print(\"I want to be decorated!!!\")"
   ]
  },
  {
   "cell_type": "code",
   "execution_count": 92,
   "metadata": {
    "collapsed": true
   },
   "outputs": [],
   "source": [
    "decorated_func = new_decorator(func_needs_decorator)"
   ]
  },
  {
   "cell_type": "code",
   "execution_count": 94,
   "metadata": {},
   "outputs": [
    {
     "name": "stdout",
     "output_type": "stream",
     "text": [
      "code before original function\n",
      "I want to be decorated!!!\n",
      "code after original function\n"
     ]
    }
   ],
   "source": [
    "decorated_func()"
   ]
  },
  {
   "cell_type": "code",
   "execution_count": 98,
   "metadata": {},
   "outputs": [
    {
     "name": "stdout",
     "output_type": "stream",
     "text": [
      "code before original function\n",
      "I want to be decorated!!!\n",
      "code after original function\n"
     ]
    }
   ],
   "source": [
    "@new_decorator\n",
    "def func_needs_decorator():\n",
    "    print(\"I want to be decorated!!!\")\n",
    "\n",
    "# call the func_needs_decorator function\n",
    "func_needs_decorator()"
   ]
  }
 ],
 "metadata": {
  "kernelspec": {
   "display_name": "Python 3",
   "language": "python",
   "name": "python3"
  },
  "language_info": {
   "codemirror_mode": {
    "name": "ipython",
    "version": 3
   },
   "file_extension": ".py",
   "mimetype": "text/x-python",
   "name": "python",
   "nbconvert_exporter": "python",
   "pygments_lexer": "ipython3",
   "version": "3.6.2"
  }
 },
 "nbformat": 4,
 "nbformat_minor": 2
}
