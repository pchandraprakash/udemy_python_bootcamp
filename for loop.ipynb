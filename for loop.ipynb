{
 "cells": [
  {
   "cell_type": "markdown",
   "metadata": {},
   "source": [
    "For loop is an iterator and it iterates throug a sequence. Lists, Dictionaries, Strings, Tuples can be iterated using for loop"
   ]
  },
  {
   "cell_type": "code",
   "execution_count": 18,
   "metadata": {},
   "outputs": [
    {
     "data": {
      "text/plain": [
       "[1, 2, 3, 4, 5, 6, 7, 8, 9, 10]"
      ]
     },
     "execution_count": 18,
     "metadata": {},
     "output_type": "execute_result"
    }
   ],
   "source": [
    "l = [1,2,3,4,5,6,7,8,9,10]\n",
    "l"
   ]
  },
  {
   "cell_type": "code",
   "execution_count": 6,
   "metadata": {},
   "outputs": [
    {
     "name": "stdout",
     "output_type": "stream",
     "text": [
      "1\n",
      "2\n",
      "3\n",
      "4\n",
      "5\n",
      "6\n",
      "7\n",
      "8\n",
      "9\n",
      "10\n"
     ]
    }
   ],
   "source": [
    "for num in l:\n",
    "    print (num)"
   ]
  },
  {
   "cell_type": "code",
   "execution_count": 20,
   "metadata": {},
   "outputs": [
    {
     "name": "stdout",
     "output_type": "stream",
     "text": [
      "1 is an odd number\n",
      "2 is an even number\n",
      "3 is an odd number\n",
      "4 is an even number\n",
      "5 is an odd number\n",
      "6 is an even number\n",
      "7 is an odd number\n",
      "8 is an even number\n",
      "9 is an odd number\n",
      "10 is an even number\n"
     ]
    }
   ],
   "source": [
    "for num in l:\n",
    "    if num % 2 == 0:\n",
    "        print (str(num) + ' is an even number') \n",
    "    elif num % 2 != 0:\n",
    "        print (str(num) + ' is an odd number')\n",
    "    else:\n",
    "        print (str(num) + ' is something else')"
   ]
  },
  {
   "cell_type": "code",
   "execution_count": 22,
   "metadata": {},
   "outputs": [
    {
     "name": "stdout",
     "output_type": "stream",
     "text": [
      "An Odd number!\n",
      "2\n",
      "An Odd number!\n",
      "4\n",
      "An Odd number!\n",
      "6\n",
      "An Odd number!\n",
      "8\n",
      "An Odd number!\n",
      "10\n"
     ]
    }
   ],
   "source": [
    "'''fizz-buss logic interview question'''\n",
    "for num in l:\n",
    "    if num % 2 == 0:\n",
    "        print (num)\n",
    "    else: \n",
    "        print ('An Odd number!')"
   ]
  },
  {
   "cell_type": "code",
   "execution_count": 26,
   "metadata": {},
   "outputs": [
    {
     "name": "stdout",
     "output_type": "stream",
     "text": [
      "2036\n"
     ]
    }
   ],
   "source": [
    "'''Sum of all the elements inside the list'''\n",
    "lsum = 0\n",
    "\n",
    "for num in l:\n",
    "    lsum += lsum + num\n",
    "    \n",
    "print (lsum)"
   ]
  },
  {
   "cell_type": "code",
   "execution_count": 28,
   "metadata": {},
   "outputs": [
    {
     "name": "stdout",
     "output_type": "stream",
     "text": [
      "t\n",
      "h\n",
      "i\n",
      "s\n",
      " \n",
      "i\n",
      "s\n",
      " \n",
      "a\n",
      " \n",
      "s\n",
      "t\n",
      "r\n",
      "i\n",
      "n\n",
      "g\n",
      "!\n"
     ]
    }
   ],
   "source": [
    "'''for loop in strings'''\n",
    "s = 'this is a string!'\n",
    "\n",
    "for letter in s:\n",
    "    print (letter)"
   ]
  },
  {
   "cell_type": "code",
   "execution_count": 30,
   "metadata": {},
   "outputs": [
    {
     "name": "stdout",
     "output_type": "stream",
     "text": [
      "1\n",
      "2\n",
      "3\n",
      "4\n",
      "5\n"
     ]
    }
   ],
   "source": [
    "'''for loop in tuples'''\n",
    "t = (1,2,3,4,5)\n",
    "\n",
    "for ele in t:\n",
    "    print (ele)"
   ]
  },
  {
   "cell_type": "code",
   "execution_count": 34,
   "metadata": {},
   "outputs": [
    {
     "name": "stdout",
     "output_type": "stream",
     "text": [
      "1\n",
      "3\n",
      "5\n"
     ]
    }
   ],
   "source": [
    "l1 = [(1,2),(3,4),(5,6)]\n",
    "\n",
    "for (t1,t2) in l1:\n",
    "    print (t1)"
   ]
  },
  {
   "cell_type": "code",
   "execution_count": 37,
   "metadata": {},
   "outputs": [
    {
     "name": "stdout",
     "output_type": "stream",
     "text": [
      "3\n",
      "2\n",
      "7\n",
      "12\n",
      "11\n",
      "30\n"
     ]
    }
   ],
   "source": [
    "for (t1,t2) in l1:\n",
    "    print (t1 + t2)\n",
    "    print (t1 * t2)"
   ]
  },
  {
   "cell_type": "code",
   "execution_count": 46,
   "metadata": {},
   "outputs": [
    {
     "name": "stdout",
     "output_type": "stream",
     "text": [
      "k1 2\n",
      "k2 4\n",
      "k3 6\n"
     ]
    }
   ],
   "source": [
    "'''for loop in dictionaries'''\n",
    "d = {'k1':2,'k2':4,'k3':6}\n",
    "\n",
    "for k,v in d.items():\n",
    "    print (k,v)"
   ]
  }
 ],
 "metadata": {
  "kernelspec": {
   "display_name": "Python 3",
   "language": "python",
   "name": "python3"
  },
  "language_info": {
   "codemirror_mode": {
    "name": "ipython",
    "version": 3
   },
   "file_extension": ".py",
   "mimetype": "text/x-python",
   "name": "python",
   "nbconvert_exporter": "python",
   "pygments_lexer": "ipython3",
   "version": "3.6.2"
  }
 },
 "nbformat": 4,
 "nbformat_minor": 2
}
