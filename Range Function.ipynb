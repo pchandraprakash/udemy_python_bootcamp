{
 "cells": [
  {
   "cell_type": "markdown",
   "metadata": {},
   "source": [
    "Range function creates a list of number from starting point to ending point. Ending point will not be included\n",
    "\n",
    "Range function syntax in python 2:\n",
    "range(start,stop,step)\n",
    "\n",
    "By default the start is 0 and the output will be in the form of list type (ex: [0,1,2])\n",
    "\n",
    "Range function syntax in python 3:\n",
    "type(range(start,stop,step))\n",
    "type can be list, tuple etc. \n",
    "start is mandatory if you are specifying a step, else the output will be an empty list or tuple."
   ]
  },
  {
   "cell_type": "code",
   "execution_count": 22,
   "metadata": {},
   "outputs": [
    {
     "name": "stdout",
     "output_type": "stream",
     "text": [
      "[0, 2, 4, 6, 8, 10, 12, 14, 16, 18] this is a list\n",
      "(0, 4, 8, 12, 16) this is a tuple\n"
     ]
    }
   ],
   "source": [
    "print(list(range(0,20,2)), 'this is a list')\n",
    "print(tuple(range(0,20,4)), 'this is a tuple')"
   ]
  },
  {
   "cell_type": "code",
   "execution_count": 25,
   "metadata": {},
   "outputs": [
    {
     "name": "stdout",
     "output_type": "stream",
     "text": [
      "[0, 2, 4, 6, 8, 10, 12, 14, 16, 18, 20, 22, 24, 26, 28, 30, 32, 34, 36, 38]\n"
     ]
    }
   ],
   "source": [
    "start = 0\n",
    "stop = 40\n",
    "step = 2\n",
    "print(list(range(start,stop,step)))"
   ]
  }
 ],
 "metadata": {
  "kernelspec": {
   "display_name": "Python 3",
   "language": "python",
   "name": "python3"
  },
  "language_info": {
   "codemirror_mode": {
    "name": "ipython",
    "version": 3
   },
   "file_extension": ".py",
   "mimetype": "text/x-python",
   "name": "python",
   "nbconvert_exporter": "python",
   "pygments_lexer": "ipython3",
   "version": "3.6.2"
  }
 },
 "nbformat": 4,
 "nbformat_minor": 2
}
