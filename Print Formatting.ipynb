{
 "cells": [
  {
   "cell_type": "code",
   "execution_count": 3,
   "metadata": {},
   "outputs": [
    {
     "name": "stdout",
     "output_type": "stream",
     "text": [
      "All the best: Phani please practice python coding for an hour daily\n"
     ]
    }
   ],
   "source": [
    "str = \"Phani please practice python coding for an hour daily\" # this value can be anything. string, number etc.\n",
    "print ('All the best: %s' %str)"
   ]
  },
  {
   "cell_type": "code",
   "execution_count": 8,
   "metadata": {},
   "outputs": [
    {
     "name": "stdout",
     "output_type": "stream",
     "text": [
      "print this float number: 123.5600\n"
     ]
    }
   ],
   "source": [
    "#print floating point number\n",
    "print ('print this float number: %1.4f' %123.56)"
   ]
  },
  {
   "cell_type": "code",
   "execution_count": 10,
   "metadata": {},
   "outputs": [
    {
     "name": "stdout",
     "output_type": "stream",
     "text": [
      "first_name: phanindra, last_name: chandraprakash, middle_name bharadwaj\n"
     ]
    }
   ],
   "source": [
    "#printing multiple strings at a time\n",
    "print ('first_name: %s, last_name: %s, middle_name %s' %('phanindra','chandraprakash','bharadwaj'))"
   ]
  },
  {
   "cell_type": "code",
   "execution_count": 11,
   "metadata": {},
   "outputs": [
    {
     "name": "stdout",
     "output_type": "stream",
     "text": [
      "fn:test,ln:test,mn:test\n"
     ]
    }
   ],
   "source": [
    "#using print.format is much more cleaner way to format the code\n",
    "print ('fn:{x},ln:{x},mn:{x}'.format(x='test'))"
   ]
  }
 ],
 "metadata": {
  "kernelspec": {
   "display_name": "Python 3",
   "language": "python",
   "name": "python3"
  },
  "language_info": {
   "codemirror_mode": {
    "name": "ipython",
    "version": 3
   },
   "file_extension": ".py",
   "mimetype": "text/x-python",
   "name": "python",
   "nbconvert_exporter": "python",
   "pygments_lexer": "ipython3",
   "version": "3.6.2"
  }
 },
 "nbformat": 4,
 "nbformat_minor": 2
}
