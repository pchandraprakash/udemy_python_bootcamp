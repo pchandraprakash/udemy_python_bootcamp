{
 "cells": [
  {
   "cell_type": "code",
   "execution_count": 14,
   "metadata": {},
   "outputs": [
    {
     "data": {
      "text/plain": [
       "'phani'"
      ]
     },
     "execution_count": 14,
     "metadata": {},
     "output_type": "execute_result"
    }
   ],
   "source": [
    "'''Dictionaries are mappings, these are collection of objects sorted by keys. Similar to hashmaps. Its a key-value pair. \n",
    "Syntax:\n",
    "dictionary_name={'key_name':'value'}\n",
    "'''\n",
    "D1 = {'k1':'phani','k2':'chandraprakash'}\n",
    "D1['k1']"
   ]
  },
  {
   "cell_type": "code",
   "execution_count": 15,
   "metadata": {},
   "outputs": [
    {
     "name": "stdout",
     "output_type": "stream",
     "text": [
      "1234\n",
      "abcd\n",
      "1.234\n"
     ]
    }
   ],
   "source": [
    "'''Dictionaries are heterogenous, they might contain different data types'''\n",
    "D2 = {'k1':1234,'k2':'abcd','k3':1.234}\n",
    "print(D2['k1'])\n",
    "print(D2['k2'])\n",
    "print(D2['k3'])"
   ]
  },
  {
   "cell_type": "code",
   "execution_count": 12,
   "metadata": {},
   "outputs": [
    {
     "data": {
      "text/plain": [
       "'ABCD'"
      ]
     },
     "execution_count": 12,
     "metadata": {},
     "output_type": "execute_result"
    }
   ],
   "source": [
    "D2['k2'][::-1] # string reverse\n",
    "D2['k2'].upper() # string reverse"
   ]
  },
  {
   "cell_type": "code",
   "execution_count": 16,
   "metadata": {},
   "outputs": [
    {
     "data": {
      "text/plain": [
       "{'k1': 234, 'k2': 'abcd', 'k3': 1.234}"
      ]
     },
     "execution_count": 16,
     "metadata": {},
     "output_type": "execute_result"
    }
   ],
   "source": [
    "# performing arithmentic operations. This operation doesn't change the original value under key k1. If we want to then we should\n",
    "# reinitialize it.\n",
    "D2['k1'] - 1000\n",
    "D2['k1'] = D2['k1'] - 1000\n",
    "D2['k1']\n",
    "D2"
   ]
  },
  {
   "cell_type": "code",
   "execution_count": 25,
   "metadata": {},
   "outputs": [
    {
     "data": {
      "text/plain": [
       "1462600.0"
      ]
     },
     "execution_count": 25,
     "metadata": {},
     "output_type": "execute_result"
    }
   ],
   "source": [
    "#self addition, subtraction, multiplication and division operations\n",
    "D2['k1'] += 100\n",
    "D2['k1'] -= 50\n",
    "D2['k1'] *= 50\n",
    "D2['k1'] /= 50\n",
    "D2['k1']"
   ]
  },
  {
   "cell_type": "code",
   "execution_count": 29,
   "metadata": {},
   "outputs": [
    {
     "data": {
      "text/plain": [
       "{'a': 'animal', 'n': 100}"
      ]
     },
     "execution_count": 29,
     "metadata": {},
     "output_type": "execute_result"
    }
   ],
   "source": [
    "ed = {}\n",
    "ed\n",
    "ed['a'] = 'animal'\n",
    "ed['n'] = 100\n",
    "ed"
   ]
  },
  {
   "cell_type": "code",
   "execution_count": 37,
   "metadata": {},
   "outputs": [
    {
     "data": {
      "text/plain": [
       "'STRING'"
      ]
     },
     "execution_count": 37,
     "metadata": {},
     "output_type": "execute_result"
    }
   ],
   "source": [
    "# nested dictionaries\n",
    "nd = {'n1': {'n2': {'n3':'string'}}}\n",
    "nd['n1']['n2']['n3'].upper()"
   ]
  },
  {
   "cell_type": "code",
   "execution_count": 39,
   "metadata": {},
   "outputs": [
    {
     "data": {
      "text/plain": [
       "{'k1': 1, 'k2': 2, 'k3': 3}"
      ]
     },
     "execution_count": 39,
     "metadata": {},
     "output_type": "execute_result"
    }
   ],
   "source": [
    "# inbuilt dictionary functions\n",
    "d3 = {}\n",
    "d3['k1'] = 1\n",
    "d3['k2'] = 2\n",
    "d3['k3'] = 3\n",
    "d3"
   ]
  },
  {
   "cell_type": "code",
   "execution_count": 41,
   "metadata": {},
   "outputs": [
    {
     "data": {
      "text/plain": [
       "dict_keys(['k1', 'k2', 'k3'])"
      ]
     },
     "execution_count": 41,
     "metadata": {},
     "output_type": "execute_result"
    }
   ],
   "source": [
    "# retrieve all the keys in a random order\n",
    "d3.keys()"
   ]
  },
  {
   "cell_type": "code",
   "execution_count": 43,
   "metadata": {},
   "outputs": [
    {
     "data": {
      "text/plain": [
       "dict_values([1, 2, 3])"
      ]
     },
     "execution_count": 43,
     "metadata": {},
     "output_type": "execute_result"
    }
   ],
   "source": [
    "# retrieve all the values in a random order\n",
    "d3.values()"
   ]
  },
  {
   "cell_type": "code",
   "execution_count": 45,
   "metadata": {},
   "outputs": [
    {
     "data": {
      "text/plain": [
       "dict_items([('k1', 1), ('k2', 2), ('k3', 3)])"
      ]
     },
     "execution_count": 45,
     "metadata": {},
     "output_type": "execute_result"
    }
   ],
   "source": [
    "# tuples. Very very important concept. This retrieves the key-value pair combination\n",
    "# ([('k1', 1)]) this is called a tuple.\n",
    "d3.items()"
   ]
  }
 ],
 "metadata": {
  "kernelspec": {
   "display_name": "Python 3",
   "language": "python",
   "name": "python3"
  },
  "language_info": {
   "codemirror_mode": {
    "name": "ipython",
    "version": 3
   },
   "file_extension": ".py",
   "mimetype": "text/x-python",
   "name": "python",
   "nbconvert_exporter": "python",
   "pygments_lexer": "ipython3",
   "version": "3.6.2"
  }
 },
 "nbformat": 4,
 "nbformat_minor": 2
}
