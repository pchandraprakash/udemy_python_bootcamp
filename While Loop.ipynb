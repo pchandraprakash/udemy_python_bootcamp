{
 "cells": [
  {
   "cell_type": "code",
   "execution_count": 2,
   "metadata": {},
   "outputs": [
    {
     "name": "stdout",
     "output_type": "stream",
     "text": [
      "value of x is:  0\n",
      "value of x is:  1\n",
      "value of x is:  2\n",
      "value of x is:  3\n",
      "value of x is:  4\n",
      "value of x is:  5\n",
      "value of x is:  6\n",
      "value of x is:  7\n",
      "value of x is:  8\n",
      "value of x is:  9\n"
     ]
    }
   ],
   "source": [
    "'''while loop performs iterative task. This loop will repeatedly executes the statement until the condition is true.\n",
    "General Syntax of while loop:\n",
    "\n",
    "while test_condition:\n",
    "    code statement\n",
    "else:\n",
    "    final code statement\n",
    "'''\n",
    "\n",
    "#sample while loop\n",
    "\n",
    "x = 0\n",
    "\n",
    "while x < 10:\n",
    "    print ('value of x is: ',x)\n",
    "    x +=1"
   ]
  },
  {
   "cell_type": "code",
   "execution_count": 8,
   "metadata": {},
   "outputs": [
    {
     "name": "stdout",
     "output_type": "stream",
     "text": [
      "value of x is:  0\n",
      "value of x is:  1\n",
      "value of x is:  2\n",
      "value of x is:  3\n",
      "value of x is:  4\n",
      "value of x is:  5\n",
      "value of x is:  6\n",
      "value of x is:  7\n",
      "value of x is:  8\n",
      "value of x is:  9\n",
      "Getting out of loop, since the value of x is 10 which is greater than the given condition\n"
     ]
    }
   ],
   "source": [
    "x = 0\n",
    "\n",
    "while x < 10:\n",
    "    print ('value of x is: ',x)\n",
    "    x +=1\n",
    "else:\n",
    "    print ('Getting out of loop, since the value of x is', x, 'which is greater than the given condition')"
   ]
  },
  {
   "cell_type": "code",
   "execution_count": 19,
   "metadata": {},
   "outputs": [
    {
     "name": "stdout",
     "output_type": "stream",
     "text": [
      "x is: 0\n",
      "incrementing the current value by 1\n",
      "x is: 1\n",
      "incrementing the current value by 1\n",
      "x is: 2\n",
      "incrementing the current value by 1\n",
      "x is: 3\n",
      "incrementing the current value by 1\n",
      "x is: 4\n",
      "incrementing the current value by 1\n",
      "value of x is 5 we are in the middle\n",
      "x is: 5\n",
      "incrementing the current value by 1\n",
      "x is: 6\n",
      "incrementing the current value by 1\n",
      "Oh!, value of x is 7, get out of the loop\n",
      "Oh Wait!, I think we should go on till 10 right?\n",
      "lets continue then...\n",
      "x is: 8\n",
      "incrementing the current value by 1\n",
      "Hey value of x is 9, lets get into pass block...\n",
      "x is: 9\n",
      "incrementing the current value by 1\n",
      "end of the loop\n"
     ]
    }
   ],
   "source": [
    "'''Break, Continue and Pass statements/options\n",
    "\n",
    "Break: Breaks out of current closest enclosing loop\n",
    "Continue: Goes to the top of closest enclosing loop\n",
    "Pass: Does nothing at all\n",
    "\n",
    "Resource: http://www.tutorialspoint.com/python/python_loop_control.htm\n",
    "'''\n",
    "\n",
    "'''Note: Please be aware of infinite loop conditions'''\n",
    "\n",
    "x = 0\n",
    "\n",
    "while x < 10:\n",
    "    print ('x is:', x)\n",
    "    print ('incrementing the current value by 1')\n",
    "    x += 1\n",
    "    if x == 5:\n",
    "        print ('value of x is 5 we are in the middle')\n",
    "        continue \n",
    "    if x == 7:\n",
    "        print ('Oh!, value of x is 7, get out of the loop')\n",
    "        print ('Oh Wait!, I think we should go on till 10 right?')\n",
    "        break\n",
    "        continue\n",
    "print ('lets continue then...')\n",
    "\n",
    "x += 1\n",
    "while x < 10:\n",
    "    print ('x is:', x)\n",
    "    print ('incrementing the current value by 1')  \n",
    "    x += 1\n",
    "    \n",
    "    if x == 9:\n",
    "        pass\n",
    "        print ('Hey value of x is 9, lets get into pass block...')\n",
    "else:\n",
    "    print ('end of the loop')"
   ]
  },
  {
   "cell_type": "code",
   "execution_count": null,
   "metadata": {
    "collapsed": true
   },
   "outputs": [],
   "source": []
  }
 ],
 "metadata": {
  "kernelspec": {
   "display_name": "Python 3",
   "language": "python",
   "name": "python3"
  },
  "language_info": {
   "codemirror_mode": {
    "name": "ipython",
    "version": 3
   },
   "file_extension": ".py",
   "mimetype": "text/x-python",
   "name": "python",
   "nbconvert_exporter": "python",
   "pygments_lexer": "ipython3",
   "version": "3.6.2"
  }
 },
 "nbformat": 4,
 "nbformat_minor": 2
}
