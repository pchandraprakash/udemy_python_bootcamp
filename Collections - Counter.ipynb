{
 "cells": [
  {
   "cell_type": "markdown",
   "metadata": {},
   "source": [
    "- this is an built-in module which implements specialized contained datatypes"
   ]
  },
  {
   "cell_type": "code",
   "execution_count": 5,
   "metadata": {},
   "outputs": [
    {
     "data": {
      "text/plain": [
       "Counter({1: 3, 2: 5, 3: 6, 4: 5, 5: 6, 7: 1, 8: 4, 9: 3, 55: 1, 57: 1})"
      ]
     },
     "execution_count": 5,
     "metadata": {},
     "output_type": "execute_result"
    }
   ],
   "source": [
    "# counter\n",
    "# this o/p us the dictionary\n",
    "\n",
    "from collections import Counter\n",
    "\n",
    "l = [1,1,1,2,2,2,2,2,4,4,4,4,4,3,3,3,3,3,3,5,5,5,5,5,5,55,57,7,8,8,8,8,9,9,9]\n",
    "\n",
    "Counter(l)"
   ]
  },
  {
   "cell_type": "code",
   "execution_count": 8,
   "metadata": {},
   "outputs": [
    {
     "data": {
      "text/plain": [
       "Counter({'a': 2,\n",
       "         'd': 2,\n",
       "         'e': 1,\n",
       "         'f': 4,\n",
       "         'h': 2,\n",
       "         'i': 1,\n",
       "         'j': 5,\n",
       "         'k': 5,\n",
       "         'l': 3,\n",
       "         'o': 1,\n",
       "         'p': 2,\n",
       "         'q': 1,\n",
       "         'r': 1,\n",
       "         's': 5})"
      ]
     },
     "execution_count": 8,
     "metadata": {},
     "output_type": "execute_result"
    }
   ],
   "source": [
    "s = 'asaskjhfkhiqrkjlpefopjsfjskldklsdfj'\n",
    "Counter(s)"
   ]
  },
  {
   "cell_type": "code",
   "execution_count": 9,
   "metadata": {
    "collapsed": true
   },
   "outputs": [],
   "source": [
    "w = 'how many words are there in this sentence I mean words in this sentence only works how in many sentence'"
   ]
  },
  {
   "cell_type": "code",
   "execution_count": 11,
   "metadata": {},
   "outputs": [
    {
     "data": {
      "text/plain": [
       "Counter({'I': 1,\n",
       "         'are': 1,\n",
       "         'how': 2,\n",
       "         'in': 3,\n",
       "         'many': 2,\n",
       "         'mean': 1,\n",
       "         'only': 1,\n",
       "         'sentence': 3,\n",
       "         'there': 1,\n",
       "         'this': 2,\n",
       "         'words': 2,\n",
       "         'works': 1})"
      ]
     },
     "execution_count": 11,
     "metadata": {},
     "output_type": "execute_result"
    }
   ],
   "source": [
    "wrd = w.split()\n",
    "\n",
    "Counter(wrd)"
   ]
  }
 ],
 "metadata": {
  "kernelspec": {
   "display_name": "Python 3",
   "language": "python",
   "name": "python3"
  },
  "language_info": {
   "codemirror_mode": {
    "name": "ipython",
    "version": 3
   },
   "file_extension": ".py",
   "mimetype": "text/x-python",
   "name": "python",
   "nbconvert_exporter": "python",
   "pygments_lexer": "ipython3",
   "version": "3.6.2"
  }
 },
 "nbformat": 4,
 "nbformat_minor": 2
}
