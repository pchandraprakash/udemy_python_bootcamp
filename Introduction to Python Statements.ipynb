{
 "cells": [
  {
   "cell_type": "markdown",
   "metadata": {},
   "source": [
    "Python v/s Other programming languages:\n",
    "What are the main differences between python and other programming languages?\n",
    "1. Python coding does not use () and {}, instead it uses whitespaces and colon. Colon specifies end of the statement and whitespace specifies indentation.\n",
    "2. Code readability if the core feature of the python programming\n",
    "3. Semi-colon is not used while ending the statement.\n",
    "4. Whitespaces are extremely important to python coding standards."
   ]
  }
 ],
 "metadata": {
  "kernelspec": {
   "display_name": "Python 3",
   "language": "python",
   "name": "python3"
  },
  "language_info": {
   "codemirror_mode": {
    "name": "ipython",
    "version": 3
   },
   "file_extension": ".py",
   "mimetype": "text/x-python",
   "name": "python",
   "nbconvert_exporter": "python",
   "pygments_lexer": "ipython3",
   "version": "3.6.2"
  }
 },
 "nbformat": 4,
 "nbformat_minor": 2
}
